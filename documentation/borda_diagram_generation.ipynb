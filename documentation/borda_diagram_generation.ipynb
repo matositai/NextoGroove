{
 "cells": [
  {
   "cell_type": "code",
   "execution_count": null,
   "id": "6495fd7c-4533-43a5-9b10-f1882e7f2c31",
   "metadata": {},
   "outputs": [],
   "source": [
    "import matplotlib.pyplot as plt\n",
    "import numpy as np\n",
    "\n",
    "# Simulated Borda diagram generation\n",
    "\n",
    "# Sample candidate scores from 3 rankings\n",
    "candidates = ['A', 'B', 'C', 'D']\n",
    "rankings = [\n",
    "    [1, 2, 3, 4],\n",
    "    [2, 1, 3, 4],\n",
    "    [1, 3, 2, 4]\n",
    "]\n",
    "\n",
    "n_candidates = len(candidates)\n",
    "n_votes = len(rankings)\n",
    "\n",
    "# Convert to numpy and calculate scores\n",
    "rankings_np = np.array(rankings)\n",
    "borda_scores = np.zeros(n_candidates)\n",
    "\n",
    "for r in rankings_np:\n",
    "    scores = np.zeros(n_candidates)\n",
    "    for rank_val in np.unique(r):\n",
    "        tie_mask = r == rank_val\n",
    "        avg_score = np.mean(n_candidates - r[tie_mask])\n",
    "        scores[tie_mask] = avg_score\n",
    "    borda_scores += scores\n",
    "\n",
    "avg_scores = borda_scores / n_votes\n",
    "\n",
    "# Sort for plotting\n",
    "sorted_indices = np.argsort(-avg_scores)\n",
    "sorted_scores = avg_scores[sorted_indices]\n",
    "sorted_candidates = [candidates[i] for i in sorted_indices]\n",
    "\n",
    "# Plot\n",
    "plt.figure(figsize=(8, 5))\n",
    "bars = plt.bar(sorted_candidates, sorted_scores)\n",
    "plt.title(\"Borda Score Aggregation across 3 Rankings\")\n",
    "plt.ylabel(\"Average Borda Score\")\n",
    "plt.xlabel(\"Candidates\")\n",
    "plt.ylim(0, max(sorted_scores) + 1)\n",
    "\n",
    "# Save to file\n",
    "output_path = \"/add/your/here/borda_diagram.png\"\n",
    "plt.tight_layout()\n",
    "plt.savefig(output_path)\n",
    "plt.close()\n",
    "\n",
    "output_path"
   ]
  }
 ],
 "metadata": {
  "kernelspec": {
   "display_name": "Python 3 (ipykernel)",
   "language": "python",
   "name": "python3"
  },
  "language_info": {
   "codemirror_mode": {
    "name": "ipython",
    "version": 3
   },
   "file_extension": ".py",
   "mimetype": "text/x-python",
   "name": "python",
   "nbconvert_exporter": "python",
   "pygments_lexer": "ipython3",
   "version": "3.13.3"
  }
 },
 "nbformat": 4,
 "nbformat_minor": 5
}
