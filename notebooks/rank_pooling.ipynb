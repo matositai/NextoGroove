{
 "cells": [
  {
   "cell_type": "code",
   "execution_count": 1,
   "id": "6e4e7966-429b-4546-8a21-9d6973531103",
   "metadata": {},
   "outputs": [],
   "source": [
    "import numpy as np\n",
    "import pandas as pd\n",
    "from collections import defaultdict\n",
    "import os"
   ]
  },
  {
   "cell_type": "code",
   "execution_count": 2,
   "id": "d23cd5f2-422f-4620-95b9-efbeeb93a0bf",
   "metadata": {},
   "outputs": [],
   "source": [
    "def borda_pool(ranking_vectors):\n",
    "    \"\"\"\n",
    "    Perform Borda count with tie-handling over a list of ranking vectors for a single item.\n",
    "    \n",
    "    Args:\n",
    "        ranking_vectors (List[np.array]): List of 1D arrays of candidate ranks (e.g., rank[i] = rank of candidate i)\n",
    "    \n",
    "    Returns:\n",
    "        np.array: 1D array of final pooled ranks\n",
    "    \"\"\"\n",
    "    n_votes = len(ranking_vectors)\n",
    "    n_candidates = len(ranking_vectors[0])\n",
    "    \n",
    "    score_accumulator = np.zeros(n_candidates)\n",
    "    \n",
    "    for r in ranking_vectors:\n",
    "        # Compute Borda scores (inverse of ranks)\n",
    "        scores = np.zeros(n_candidates)\n",
    "        for rank_value in np.unique(r):\n",
    "            # Find candidates with this rank (tie-aware)\n",
    "            tied = (r == rank_value)\n",
    "            # Average Borda score for tied candidates\n",
    "            avg_score = np.mean(n_candidates - r[tied])\n",
    "            scores[tied] = avg_score\n",
    "        score_accumulator += scores\n",
    "    \n",
    "    avg_scores = score_accumulator / n_votes\n",
    "    # Convert to final ranking: higher score = better rank (rank 1 is best)\n",
    "    pooled_rank = avg_scores.argsort()[::-1].argsort() + 1  # 1-based\n",
    "    return pooled_rank\n"
   ]
  },
  {
   "cell_type": "code",
   "execution_count": 3,
   "id": "9c0166b4-2548-4ba2-970b-680059efa989",
   "metadata": {},
   "outputs": [],
   "source": [
    "input_dir = 'C:/Users/User/NextoGroove/inputs/choice_ranks'\n",
    "os.chdir(input_dir)\n",
    "\n",
    "# Load all CSVs into one long DataFrame\n",
    "files = ['choice_ranks_1.csv', 'choice_ranks_2.csv']\n",
    "df_all = pd.concat([pd.read_csv(f, sep = ';', encoding = 'utf8') for f in files])"
   ]
  },
  {
   "cell_type": "code",
   "execution_count": 4,
   "id": "dbaade1e-322e-4369-9042-a6b2c0deb1df",
   "metadata": {},
   "outputs": [],
   "source": [
    "df_all['item'] = df_all['Input'] + '_' + df_all['Density_Class'].astype(str)"
   ]
  },
  {
   "cell_type": "code",
   "execution_count": 5,
   "id": "beec8c73-181a-4325-a532-3e3038bfac06",
   "metadata": {},
   "outputs": [],
   "source": [
    "candidates = ['Kick', 'Snare', 'Hihat', 'Tom', 'Cymbals']"
   ]
  },
  {
   "cell_type": "code",
   "execution_count": 6,
   "id": "d617a6e8-f37d-486f-aa32-fb2ba17c5ab3",
   "metadata": {},
   "outputs": [],
   "source": [
    "df_all['rank_list'] = (\n",
    "    df_all[candidates]\n",
    "      .apply(lambda row: row.dropna().tolist(), axis=1)\n",
    ")"
   ]
  },
  {
   "cell_type": "code",
   "execution_count": 7,
   "id": "df5b2566-01d3-4e01-9a50-a3a1ea83b40b",
   "metadata": {},
   "outputs": [],
   "source": [
    "item_list = np.unique(df_all['item'].to_numpy()).tolist()\n",
    "index_list = list(range(len(item_list)))\n",
    "mapping_dict = dict(zip(item_list, index_list))"
   ]
  },
  {
   "cell_type": "code",
   "execution_count": 8,
   "id": "4472507b-5b92-47ab-901f-b45cecce1195",
   "metadata": {},
   "outputs": [],
   "source": [
    "df_all['item_index'] = df_all.item.map(mapping_dict)"
   ]
  },
  {
   "cell_type": "code",
   "execution_count": 9,
   "id": "ce49d3da-3fa8-497c-a1b4-cc07883a1718",
   "metadata": {},
   "outputs": [],
   "source": [
    "df_all_filtered_and_transposed = df_all[['item_index', 'rank_list']].reset_index().drop(columns = ['index'])"
   ]
  },
  {
   "cell_type": "code",
   "execution_count": 10,
   "id": "6f28c163-2a98-4851-9016-9736249ca08f",
   "metadata": {},
   "outputs": [],
   "source": [
    "df_all_filtered_and_transposed['row'] = df_all_filtered_and_transposed.groupby('item_index').cumcount() # optional: keep index for unstacking\n",
    "pivoted = df_all_filtered_and_transposed.pivot(index='row', columns='item_index', values='rank_list')"
   ]
  },
  {
   "cell_type": "code",
   "execution_count": 11,
   "id": "efe37952-e8b4-4eb4-be05-5a346c9f27c8",
   "metadata": {},
   "outputs": [],
   "source": [
    "voting_results_dict = {\n",
    "    col: [np.array(val) for val in pivoted[col].values]\n",
    "    for col in pivoted.columns\n",
    "}"
   ]
  },
  {
   "cell_type": "code",
   "execution_count": 12,
   "id": "f68a079a-c8f4-45c3-afb7-51c8109a4b58",
   "metadata": {},
   "outputs": [],
   "source": [
    "pooled_result = {item: borda_pool(rank_list) for item, rank_list in voting_results_dict.items()}"
   ]
  }
 ],
 "metadata": {
  "kernelspec": {
   "display_name": "Python 3 (ipykernel)",
   "language": "python",
   "name": "python3"
  },
  "language_info": {
   "codemirror_mode": {
    "name": "ipython",
    "version": 3
   },
   "file_extension": ".py",
   "mimetype": "text/x-python",
   "name": "python",
   "nbconvert_exporter": "python",
   "pygments_lexer": "ipython3",
   "version": "3.13.3"
  }
 },
 "nbformat": 4,
 "nbformat_minor": 5
}
